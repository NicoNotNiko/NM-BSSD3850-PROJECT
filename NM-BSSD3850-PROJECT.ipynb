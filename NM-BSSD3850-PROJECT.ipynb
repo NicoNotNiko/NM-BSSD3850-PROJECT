{
 "cells": [
  {
   "cell_type": "code",
   "execution_count": 201,
   "id": "binary-makeup",
   "metadata": {},
   "outputs": [],
   "source": [
    "import tensorflow as tf\n",
    "import pandas as pd\n",
    "import numpy as np\n",
    "import matplotlib.pyplot as plt\n",
    "import os"
   ]
  },
  {
   "cell_type": "code",
   "execution_count": 202,
   "id": "lucky-publisher",
   "metadata": {},
   "outputs": [],
   "source": [
    "maxlen = 20\n",
    "labels = 2"
   ]
  },
  {
   "cell_type": "code",
   "execution_count": 203,
   "id": "seventh-forum",
   "metadata": {},
   "outputs": [
    {
     "data": {
      "text/plain": [
       "<bound method NDFrame.head of             name  gender\n",
       "0           Name  Gender\n",
       "1          James       M\n",
       "2           John       M\n",
       "3         Robert       M\n",
       "4        Michael       M\n",
       "...          ...     ...\n",
       "9995  Martavious       M\n",
       "9996      Vander       M\n",
       "9997     Krystel       F\n",
       "9998  Nicollette       F\n",
       "9999       Elson       M\n",
       "\n",
       "[10000 rows x 2 columns]>"
      ]
     },
     "execution_count": 203,
     "metadata": {},
     "output_type": "execute_result"
    }
   ],
   "source": [
    "df = pd.read_csv('name_gender_dataset.csv', header=None)\n",
    "df.columns = ['name', 'gender', 'count', 'probability']\n",
    "\n",
    "\n",
    "columnsTitles=['name', 'gender', 'count', 'probability']\n",
    "df = df.reindex(columns=columnsTitles)\n",
    "del df['count']\n",
    "del df['probability']\n",
    "\n",
    "names = df['name']\n",
    "gender = df['gender']\n",
    "\n",
    "names1 = [x.lower() for x in names]\n",
    "token = tf.keras.preprocessing.text.Tokenizer(filters='!\"#$%&()*+,./:;<=>?@[\\\\]^_`{|}~\\t\\n')\n",
    "token.fit_on_texts(names)\n",
    "token.get_config()\n",
    "\n",
    "df.head"
   ]
  },
  {
   "cell_type": "code",
   "execution_count": 204,
   "id": "flexible-trailer",
   "metadata": {},
   "outputs": [
    {
     "name": "stdout",
     "output_type": "stream",
     "text": [
      "Male : 4037\n",
      "Female : 5962\n"
     ]
    }
   ],
   "source": [
    "print(\"Male : \" + str(sum(gender=='M')))\n",
    "print(\"Female : \" + str(sum(gender=='F')))"
   ]
  },
  {
   "cell_type": "code",
   "execution_count": 205,
   "id": "saving-passport",
   "metadata": {},
   "outputs": [
    {
     "name": "stdout",
     "output_type": "stream",
     "text": [
      "29\n",
      "{'o', 'w', 'm', 'j', 'a', 'h', 'p', 'k', 'l', 'd', 'f', 'v', 'z', 'r', 'y', 'g', 's', '-', ' ', 'n', 'q', 'b', 'i', 'c', 'x', 'e', 't', 'END', 'u'}\n"
     ]
    }
   ],
   "source": [
    "names = df['name']\n",
    "gender = df['gender']\n",
    "\n",
    "names1 = [x.lower() for x in names]\n",
    "token = tf.keras.preprocessing.text.Tokenizer(filters='!\"#$%&()*+,./:;<=>?@[\\\\]^_`{|}~\\t\\n')\n",
    "token.fit_on_texts(names)\n",
    "token.get_config()\n",
    "\n",
    "vocab = set(' '.join([str(i) for i in names1]))\n",
    "vocab.add('END')\n",
    "\n",
    "len_vocab = len(vocab)\n",
    "print(len_vocab)\n",
    "print(vocab)"
   ]
  },
  {
   "cell_type": "code",
   "execution_count": 206,
   "id": "dress-strike",
   "metadata": {},
   "outputs": [
    {
     "data": {
      "text/plain": [
       "{'o': 0,\n",
       " 'w': 1,\n",
       " 'm': 2,\n",
       " 'j': 3,\n",
       " 'a': 4,\n",
       " 'h': 5,\n",
       " 'p': 6,\n",
       " 'k': 7,\n",
       " 'l': 8,\n",
       " 'd': 9,\n",
       " 'f': 10,\n",
       " 'v': 11,\n",
       " 'z': 12,\n",
       " 'r': 13,\n",
       " 'y': 14,\n",
       " 'g': 15,\n",
       " 's': 16,\n",
       " '-': 17,\n",
       " ' ': 18,\n",
       " 'n': 19,\n",
       " 'q': 20,\n",
       " 'b': 21,\n",
       " 'i': 22,\n",
       " 'c': 23,\n",
       " 'x': 24,\n",
       " 'e': 25,\n",
       " 't': 26,\n",
       " 'END': 27,\n",
       " 'u': 28}"
      ]
     },
     "execution_count": 206,
     "metadata": {},
     "output_type": "execute_result"
    }
   ],
   "source": [
    "char_index = dict((c, i) for i, c in enumerate(vocab))\n",
    "char_index"
   ]
  },
  {
   "cell_type": "code",
   "execution_count": 207,
   "id": "destroyed-linux",
   "metadata": {},
   "outputs": [],
   "source": [
    "msk = np.random.rand(len(df)) < 0.8\n",
    "train = (df[msk])\n",
    "test = (df[~msk])"
   ]
  },
  {
   "cell_type": "code",
   "execution_count": 208,
   "id": "capital-freeware",
   "metadata": {},
   "outputs": [],
   "source": [
    "def set_flag(i):\n",
    "    tmp = np.zeros(29);\n",
    "    tmp[i] = 1\n",
    "    return(tmp)"
   ]
  },
  {
   "cell_type": "code",
   "execution_count": 209,
   "id": "forced-british",
   "metadata": {},
   "outputs": [
    {
     "data": {
      "text/plain": [
       "array([0., 0., 0., 1., 0., 0., 0., 0., 0., 0., 0., 0., 0., 0., 0., 0., 0.,\n",
       "       0., 0., 0., 0., 0., 0., 0., 0., 0., 0., 0., 0.])"
      ]
     },
     "execution_count": 209,
     "metadata": {},
     "output_type": "execute_result"
    }
   ],
   "source": [
    "set_flag(3)"
   ]
  },
  {
   "cell_type": "code",
   "execution_count": 210,
   "id": "endless-stanford",
   "metadata": {},
   "outputs": [],
   "source": [
    "X_train = []\n",
    "Y_train = []\n",
    "\n",
    "for i in names1:\n",
    "    tmp = [set_flag(char_index[j]) for j in str(i)]\n",
    "    for k in range(0,maxlen - len(str(i))):\n",
    "        tmp.append(set_flag(char_index[\"END\"]))\n",
    "    X_train.append(tmp)\n",
    "for i in gender:\n",
    "    if i == 'm':\n",
    "        Y_train.append([1,0])\n",
    "    else:\n",
    "        Y_train.append([0,1])"
   ]
  },
  {
   "cell_type": "code",
   "execution_count": 211,
   "id": "regulated-sterling",
   "metadata": {},
   "outputs": [
    {
     "data": {
      "text/plain": [
       "(10000, 20, 29)"
      ]
     },
     "execution_count": 211,
     "metadata": {},
     "output_type": "execute_result"
    }
   ],
   "source": [
    "np.asarray(X_train).shape"
   ]
  },
  {
   "cell_type": "code",
   "execution_count": 212,
   "id": "answering-courtesy",
   "metadata": {},
   "outputs": [
    {
     "data": {
      "text/plain": [
       "(10000, 2)"
      ]
     },
     "execution_count": 212,
     "metadata": {},
     "output_type": "execute_result"
    }
   ],
   "source": [
    "np.asarray(Y_train).shape"
   ]
  },
  {
   "cell_type": "code",
   "execution_count": 220,
   "id": "statewide-vatican",
   "metadata": {},
   "outputs": [],
   "source": [
    "model = tf.keras.models.Sequential([\n",
    "    tf.keras.layers.LSTM(512, return_sequences=True, input_shape=(maxlen,len_vocab)),\n",
    "    tf.keras.layers.Dropout(0.4),\n",
    "    tf.keras.layers.LSTM(512, return_sequences=False),\n",
    "    tf.keras.layers.Dropout(0.4),\n",
    "    tf.keras.layers.Dense(2, activation='softmax')\n",
    "])"
   ]
  },
  {
   "cell_type": "code",
   "execution_count": 214,
   "id": "grateful-inquiry",
   "metadata": {},
   "outputs": [],
   "source": [
    "X_test = []\n",
    "Y_test = []\n",
    "\n",
    "for i in names1:\n",
    "    tmp = [set_flag(char_index[j]) for j in str(i)]\n",
    "    for k in range(0,maxlen - len(str(i))):\n",
    "        tmp.append(set_flag(char_index[\"END\"]))\n",
    "    X_test.append(tmp)\n",
    "for i in gender:\n",
    "    if i == 'm':\n",
    "        Y_test.append([1,0])\n",
    "    else:\n",
    "        Y_test.append([0,1])"
   ]
  },
  {
   "cell_type": "code",
   "execution_count": 215,
   "id": "beneficial-texture",
   "metadata": {},
   "outputs": [
    {
     "name": "stdout",
     "output_type": "stream",
     "text": [
      "(10000, 20, 29)\n",
      "(10000, 2)\n"
     ]
    }
   ],
   "source": [
    "print(np.asarray(X_test).shape)\n",
    "print(np.asarray(Y_test).shape)"
   ]
  },
  {
   "cell_type": "code",
   "execution_count": 216,
   "id": "unknown-habitat",
   "metadata": {},
   "outputs": [],
   "source": [
    "X_train = np.array(X_train)\n",
    "Y_train = np.array(Y_train)\n",
    "X_test = np.array(X_test)\n",
    "Y_test = np.array(Y_test)"
   ]
  },
  {
   "cell_type": "code",
   "execution_count": 221,
   "id": "derived-screen",
   "metadata": {},
   "outputs": [],
   "source": [
    "model.compile(loss='categorical_crossentropy', optimizer='adam',metrics=['accuracy'])"
   ]
  },
  {
   "cell_type": "code",
   "execution_count": null,
   "id": "prospective-construction",
   "metadata": {},
   "outputs": [
    {
     "name": "stdout",
     "output_type": "stream",
     "text": [
      "Epoch 1/10\n",
      "10/10 [==============================] - 87s 9s/step - loss: 0.2684 - accuracy: 0.7357 - val_loss: 0.0000e+00 - val_accuracy: 1.0000\n",
      "Epoch 2/10\n",
      "10/10 [==============================] - 82s 8s/step - loss: 0.0000e+00 - accuracy: 1.0000 - val_loss: 0.0000e+00 - val_accuracy: 1.0000\n",
      "Epoch 3/10\n",
      "10/10 [==============================] - 82s 8s/step - loss: 0.0000e+00 - accuracy: 1.0000 - val_loss: 0.0000e+00 - val_accuracy: 1.0000\n",
      "Epoch 4/10\n",
      " 5/10 [==============>...............] - ETA: 29s - loss: 0.0000e+00 - accuracy: 1.0000"
     ]
    }
   ],
   "source": [
    "model.fit(X_train, Y_train, batch_size=1000, epochs=10, validation_data=(X_test, Y_test))"
   ]
  },
  {
   "cell_type": "code",
   "execution_count": 219,
   "id": "outside-fetish",
   "metadata": {},
   "outputs": [
    {
     "name": "stdout",
     "output_type": "stream",
     "text": [
      "313/313 [==============================] - 36s 112ms/step - loss: 0.0000e+00 - accuracy: 1.0000\n",
      "Test Score:  0.0\n",
      "Test Accuracy:  1.0\n"
     ]
    }
   ],
   "source": [
    "score, accuracy = model.evaluate(X_test, Y_test)\n",
    "print('Test Score: ', score)\n",
    "print('Test Accuracy: ', accuracy)"
   ]
  },
  {
   "cell_type": "code",
   "execution_count": null,
   "id": "needed-walter",
   "metadata": {},
   "outputs": [],
   "source": []
  }
 ],
 "metadata": {
  "kernelspec": {
   "display_name": "Python 3",
   "language": "python",
   "name": "python3"
  },
  "language_info": {
   "codemirror_mode": {
    "name": "ipython",
    "version": 3
   },
   "file_extension": ".py",
   "mimetype": "text/x-python",
   "name": "python",
   "nbconvert_exporter": "python",
   "pygments_lexer": "ipython3",
   "version": "3.7.8"
  }
 },
 "nbformat": 4,
 "nbformat_minor": 5
}
